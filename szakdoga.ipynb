{
 "cells": [
  {
   "cell_type": "code",
   "execution_count": 10,
   "metadata": {
    "scrolled": true
   },
   "outputs": [],
   "source": [
    "import numpy as np\n",
    "from pandas import read_csv\n",
    "from pandas import to_datetime\n",
    "from sklearn.preprocessing import MinMaxScaler\n",
    "import math\n",
    "\n",
    "# load the train data\n",
    "dataframe = read_csv('dataset/train.csv',usecols=[i for i in range(0,211)], engine='python', header=0)\n",
    "trainData = dataframe.values\n",
    "trainDataOriginal = np.nan_to_num(trainData)\n",
    "trainData = trainDataOriginal\n",
    "# load the test data\n",
    "dataframe = read_csv('dataset/test_2.csv',usecols=[i for i in range(0,146)], engine='python', header=0)\n",
    "testData = dataframe.values\n",
    "testData = np.nan_to_num(testData)\n",
    "testX = testData"
   ]
  },
  {
   "cell_type": "code",
   "execution_count": 11,
   "metadata": {},
   "outputs": [],
   "source": [
    "#parameters\n",
    "batch_size = 64\n",
    "input_dim  = 146\n",
    "output_dim = 64"
   ]
  },
  {
   "cell_type": "code",
   "execution_count": 12,
   "metadata": {},
   "outputs": [
    {
     "name": "stdout",
     "output_type": "stream",
     "text": [
      "(625, 64, 146)\n",
      "(625, 64, 64)\n",
      "(1875, 64, 146)\n"
     ]
    }
   ],
   "source": [
    "#Separate the train data to input and output\n",
    "trainX = trainData[0:len(trainData),0:146]\n",
    "trainY = trainData[0:len(trainData),147:211]\n",
    "# normalize the dataset\n",
    "scalerInput = MinMaxScaler(feature_range=(0, 1))\n",
    "scalerOutput = MinMaxScaler(feature_range=(0, 1))\n",
    "\n",
    "trainX = scalerInput.fit_transform(trainX)\n",
    "trainY = scalerOutput.fit_transform(trainY)\n",
    "testX = scalerInput.fit_transform(testX)\n",
    "\n",
    "#Put it into batches\n",
    "trainX = np.reshape(trainX,(len(trainX)/batch_size,batch_size,trainX.shape[1]))\n",
    "trainY = np.reshape(trainY,(len(trainY)/batch_size,batch_size,trainY.shape[1]))\n",
    "testX  = np.reshape(testX,(len(testX)/batch_size,batch_size,testX.shape[1]))\n",
    "\n",
    "print trainX.shape\n",
    "print trainY.shape\n",
    "print testX.shape"
   ]
  },
  {
   "cell_type": "code",
   "execution_count": 27,
   "metadata": {},
   "outputs": [],
   "source": [
    "from keras.activations import linear\n",
    "from keras.models import Sequential\n",
    "from keras.layers import Dense\n",
    "from keras.layers import LSTM\n",
    "from keras.optimizers import adam\n",
    "from sklearn.metrics import mean_squared_error\n",
    "from keras.models import Model\n",
    "\n",
    "class Model:\n",
    "    \n",
    "    def __init__(self, trainX, trainY):\n",
    "        self.optimizer = adam(0.01, 0.01, 0.001, 1e-08, 0.0)\n",
    "        self.model = Sequential()\n",
    "        self.model.add(LSTM(output_dim, input_shape=(batch_size, input_dim), return_sequences=True))\n",
    "        self.model.add(Dense(output_dim, activation='linear'))\n",
    "        #Configures the model for training.\n",
    "        self.model.compile(loss=\"mean_squared_error\",optimizer=self.optimizer)\n",
    "        #Trains the model for a fixed number of epochs (iterations on a dataset).\n",
    "        self.model.fit(trainX,trainY,batch_size=batch_size,epochs=1)\n",
    "        #Make predictions\n",
    "    \n",
    "    def predict(self,testX):\n",
    "        return self.model.predict(testX)\n",
    "    "
   ]
  },
  {
   "cell_type": "code",
   "execution_count": 28,
   "metadata": {},
   "outputs": [
    {
     "name": "stdout",
     "output_type": "stream",
     "text": [
      "Epoch 1/1\n",
      "625/625 [==============================] - 2s - loss: 0.0907     \n"
     ]
    }
   ],
   "source": [
    "#train the model\n",
    "nn = Model(trainX, trainY)\n",
    "testY = nn.predict(testX)"
   ]
  },
  {
   "cell_type": "code",
   "execution_count": 29,
   "metadata": {},
   "outputs": [
    {
     "name": "stdout",
     "output_type": "stream",
     "text": [
      "[[ -1.04213767e-02  -3.48009123e-03  -1.35742286e-02 ...,  -1.68686584e-01\n",
      "    1.34140275e+06   1.93409975e+06]\n",
      " [ -1.02256797e-02   1.74950750e-03  -7.79836020e-03 ...,  -7.45808929e-02\n",
      "    1.44399075e+06   2.17367225e+06]\n",
      " [ -1.02537451e-02   3.20519414e-03  -6.34601293e-03 ...,  -2.39081196e-02\n",
      "    1.48224100e+06   2.24608675e+06]\n",
      " ..., \n",
      " [ -9.90756508e-03   2.96240509e-03  -4.44969628e-03 ...,   8.56180862e-03\n",
      "    1.56963175e+06   2.29875975e+06]\n",
      " [ -8.35386757e-03   2.28425325e-03  -5.56152174e-03 ...,   2.34614667e-02\n",
      "    1.54332400e+06   2.33083375e+06]\n",
      " [ -9.74762160e-03   2.52898969e-03  -3.77519336e-03 ...,   1.53078828e-02\n",
      "    1.53800838e+06   2.31886775e+06]]\n"
     ]
    }
   ],
   "source": [
    "testY = testY.reshape(len(testData),output_dim)\n",
    "testY = scalerOutput.inverse_transform(testY)\n",
    "print testY\n"
   ]
  },
  {
   "cell_type": "code",
   "execution_count": null,
   "metadata": {},
   "outputs": [],
   "source": []
  }
 ],
 "metadata": {
  "kernelspec": {
   "display_name": "Python 2",
   "language": "python",
   "name": "python2"
  },
  "language_info": {
   "codemirror_mode": {
    "name": "ipython",
    "version": 2
   },
   "file_extension": ".py",
   "mimetype": "text/x-python",
   "name": "python",
   "nbconvert_exporter": "python",
   "pygments_lexer": "ipython2",
   "version": "2.7.12"
  }
 },
 "nbformat": 4,
 "nbformat_minor": 2
}
