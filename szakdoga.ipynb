{
 "cells": [
  {
   "cell_type": "code",
   "execution_count": 8,
   "metadata": {
    "scrolled": true
   },
   "outputs": [],
   "source": [
    "import numpy as np\n",
    "from pandas import read_csv\n",
    "from pandas import to_datetime\n",
    "import math\n",
    "\n",
    "# load the train data\n",
    "dataframe = read_csv('dataset/train.csv.gz',usecols=[i for i in range(0,211)], engine='python', header=0)\n",
    "trainData = dataframe.values\n",
    "trainDataOriginal = np.nan_to_num(trainData)\n",
    "trainData = trainDataOriginal\n",
    "# load the test data\n",
    "dataframe = read_csv('dataset/test_2.csv.gz',usecols=[i for i in range(0,146)], engine='python', header=0)\n",
    "testData = dataframe.values\n",
    "testData = np.nan_to_num(testData)\n",
    "testX = testData\n",
    "\n",
    "#Separate the train data to input and output\n",
    "trainX = trainData[0:len(trainData),0:146]\n",
    "trainY = trainData[0:len(trainData),147:211]"
   ]
  },
  {
   "cell_type": "code",
   "execution_count": 9,
   "metadata": {},
   "outputs": [],
   "source": [
    "#parameters\n",
    "batch_size = 64\n",
    "input_dim  = 146\n",
    "output_dim = 64"
   ]
  },
  {
   "cell_type": "code",
   "execution_count": 10,
   "metadata": {},
   "outputs": [],
   "source": [
    "from keras.activations import linear\n",
    "from keras.models import Sequential\n",
    "from keras.layers import Dense, LSTM\n",
    "from keras.optimizers import adam\n",
    "from sklearn.metrics import mean_squared_error\n",
    "from sklearn.preprocessing import MinMaxScaler\n",
    "\n",
    "class Model:\n",
    "    \n",
    "    _scalerInput = MinMaxScaler(feature_range=(0, 1))\n",
    "    _scalerOutput = MinMaxScaler(feature_range=(0, 1))\n",
    "    \n",
    "    def __init__(self):        \n",
    "        #self.optimizer = adam(0.001, 0.9, 0.999, 1e-08, 0.0)\n",
    "        self.model = Sequential()\n",
    "        self.model.add(LSTM(output_dim, input_shape=(batch_size, input_dim), return_sequences=True))\n",
    "        self.model.add(Dense(output_dim, activation='linear'))\n",
    "        #Configures the model for training.\n",
    "        self.model.compile(loss=\"mean_squared_error\",optimizer=\"adam\")\n",
    "    def train(self, trainX, trainY):\n",
    "        # normalize the input\n",
    "        trainX = self._scalerInput.fit_transform(trainX)\n",
    "        trainY = self._scalerOutput.fit_transform(trainY)\n",
    "        #Put it into batches\n",
    "        trainX = np.reshape(trainX,(len(trainX)/batch_size,batch_size,trainX.shape[1]))\n",
    "        trainY = np.reshape(trainY,(len(trainY)/batch_size,batch_size,trainY.shape[1]))\n",
    "        #Trains the model for a fixed number of epochs (iterations on a dataset).\n",
    "        self.model.fit(trainX,trainY,batch_size=batch_size,epochs=1000)\n",
    "    def predict(self,testX):\n",
    "        # normalize the input\n",
    "        testX = self._scalerInput.fit_transform(testX)\n",
    "        #Put it into batches\n",
    "        testX  = np.reshape(testX,(len(testX)/batch_size,batch_size,testX.shape[1])) \n",
    "        #make the prediction\n",
    "        testY = self.model.predict(testX)\n",
    "        #reshape, make 2D array\n",
    "        testY = testY.reshape(len(testData),output_dim)\n",
    "        #denormalize the result\n",
    "        return self._scalerOutput.inverse_transform(testY)\n",
    "    "
   ]
  },
  {
   "cell_type": "code",
   "execution_count": 11,
   "metadata": {},
   "outputs": [
    {
     "name": "stdout",
     "output_type": "stream",
     "text": [
      "Epoch 1/2\n",
      "625/625 [==============================] - 2s - loss: 0.1510     \n",
      "Epoch 2/2\n",
      "625/625 [==============================] - 2s - loss: 0.0312     \n"
     ]
    }
   ],
   "source": [
    "#train the model\n",
    "nn = Model()\n",
    "nn.train(trainX, trainY)\n",
    "result = nn.predict(testX)"
   ]
  },
  {
   "cell_type": "code",
   "execution_count": 12,
   "metadata": {},
   "outputs": [],
   "source": [
    "import gzip\n",
    "#create the result.cs.gzip\n",
    "content = \"Id,Predicted\\n\"\n",
    "for y in range(result.shape[0]):\n",
    "    for x in range(result.shape[1]-2):\n",
    "       content +=str(y+1)+\"_\"+str(x+1)+\",\"+str(result[y][x])+\"\\n\"\n",
    "\n",
    "with gzip.open('./result.csv.gz', 'wb') as f:\n",
    "    f.write(content)"
   ]
  },
  {
   "cell_type": "code",
   "execution_count": null,
   "metadata": {},
   "outputs": [],
   "source": []
  },
  {
   "cell_type": "code",
   "execution_count": null,
   "metadata": {},
   "outputs": [],
   "source": []
  }
 ],
 "metadata": {
  "kernelspec": {
   "display_name": "Python 2",
   "language": "python",
   "name": "python2"
  },
  "language_info": {
   "codemirror_mode": {
    "name": "ipython",
    "version": 2
   },
   "file_extension": ".py",
   "mimetype": "text/x-python",
   "name": "python",
   "nbconvert_exporter": "python",
   "pygments_lexer": "ipython2",
   "version": "2.7.12"
  }
 },
 "nbformat": 4,
 "nbformat_minor": 2
}
