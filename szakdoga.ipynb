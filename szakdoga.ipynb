{
 "cells": [
  {
   "cell_type": "code",
   "execution_count": 56,
   "metadata": {
    "scrolled": true
   },
   "outputs": [],
   "source": [
    "import numpy as np\n",
    "from pandas import read_csv\n",
    "from pandas import to_datetime\n",
    "from sklearn.preprocessing import MinMaxScaler\n",
    "import math\n",
    "\n",
    "# load the train data\n",
    "dataframe = read_csv('dataset/train.csv',usecols=[i for i in range(0,211)], engine='python', header=0)\n",
    "trainDataOriginal = dataframe.values\n",
    "trainDataOriginal = np.nan_to_num(trainData)\n",
    "trainData = trainDataOriginal\n",
    "# load the test data\n",
    "dataframe = read_csv('dataset/test_2.csv',usecols=[i for i in range(0,146)], engine='python', header=0)\n",
    "testData = dataframe.values\n",
    "testData = np.nan_to_num(testData)\n",
    "testX = testData"
   ]
  },
  {
   "cell_type": "code",
   "execution_count": 57,
   "metadata": {},
   "outputs": [],
   "source": [
    "#parameters\n",
    "batch_size = 64\n",
    "input_dim  = 146\n",
    "output_dim = 64"
   ]
  },
  {
   "cell_type": "code",
   "execution_count": 58,
   "metadata": {},
   "outputs": [
    {
     "name": "stdout",
     "output_type": "stream",
     "text": [
      "(625, 64, 146)\n",
      "(625, 64, 64)\n",
      "(1875, 64, 146)\n"
     ]
    }
   ],
   "source": [
    "#Separate the train data to input and output\n",
    "trainX = trainData[0:len(trainData),0:146]\n",
    "trainY = trainData[0:len(trainData),147:211]\n",
    "# normalize the dataset\n",
    "scalerInput = MinMaxScaler(feature_range=(0, 1))\n",
    "scalerOutput = MinMaxScaler(feature_range=(0, 1))\n",
    "\n",
    "trainX = scalerInput.fit_transform(trainX)\n",
    "trainY = scalerOutput.fit_transform(trainY)\n",
    "testX = scalerInput.fit_transform(testX)\n",
    "\n",
    "#Put it into batches\n",
    "trainX = np.reshape(trainX,(len(trainX)/batch_size,batch_size,trainX.shape[1]))\n",
    "trainY = np.reshape(trainY,(len(trainY)/batch_size,batch_size,trainY.shape[1]))\n",
    "testX  = np.reshape(testX,(len(testX)/batch_size,batch_size,testX.shape[1]))\n",
    "\n",
    "print trainX.shape\n",
    "print trainY.shape\n",
    "print testX.shape"
   ]
  },
  {
   "cell_type": "code",
   "execution_count": 59,
   "metadata": {},
   "outputs": [
    {
     "name": "stdout",
     "output_type": "stream",
     "text": [
      "(None, 64, 64)\n",
      "(None, 64, 64)\n",
      "Epoch 1/1\n",
      "625/625 [==============================] - 2s - loss: 21.9218     \n"
     ]
    }
   ],
   "source": [
    "from keras.activations import linear\n",
    "from keras.models import Sequential\n",
    "from keras.layers import Dense\n",
    "from keras.layers import LSTM\n",
    "from keras.layers import Input\n",
    "from keras.optimizers import adam\n",
    "from sklearn.metrics import mean_squared_error\n",
    "from keras.models import Model\n",
    "from keras.layers import Input, Dense\n",
    "\n",
    "# create the model\n",
    "Opt = adam(0.1, 0.1, 0.001, 1e-08, 0.0)\n",
    "model = Sequential()\n",
    "model.add(LSTM(output_dim, input_shape=(batch_size, input_dim), return_sequences=True))\n",
    "print model.output_shape\n",
    "model.add(Dense(output_dim, activation='linear'))\n",
    "print model.output_shape\n",
    "#\n",
    "#Configures the model for training.\n",
    "model.compile(loss=\"mean_squared_error\",optimizer=Opt)\n",
    "#Trains the model for a fixed number of epochs (iterations on a dataset).\n",
    "model.fit(trainX,trainY,batch_size=batch_size,epochs=1)\n",
    "#Make predictions\n",
    "testY = model.predict(testX)"
   ]
  },
  {
   "cell_type": "code",
   "execution_count": 63,
   "metadata": {},
   "outputs": [],
   "source": [
    "testY = testY.reshape(len(testData),output_dim)\n",
    "testY = scalerOutput.inverse_transform(testY)\n",
    "\n"
   ]
  },
  {
   "cell_type": "code",
   "execution_count": null,
   "metadata": {},
   "outputs": [],
   "source": []
  }
 ],
 "metadata": {
  "kernelspec": {
   "display_name": "Python 2",
   "language": "python",
   "name": "python2"
  },
  "language_info": {
   "codemirror_mode": {
    "name": "ipython",
    "version": 2
   },
   "file_extension": ".py",
   "mimetype": "text/x-python",
   "name": "python",
   "nbconvert_exporter": "python",
   "pygments_lexer": "ipython2",
   "version": "2.7.12"
  }
 },
 "nbformat": 4,
 "nbformat_minor": 2
}
